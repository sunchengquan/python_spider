{
 "cells": [
  {
   "cell_type": "code",
   "execution_count": null,
   "metadata": {},
   "outputs": [
    {
     "name": "stdout",
     "output_type": "stream",
     "text": [
      "Process to write: 24074\n",
      "Put A to queue...\n",
      "Put B to queue...\n",
      "Put C to queue...\n",
      "Put D to queue...\n",
      "Process to read: 24087\n",
      "Process to read: 24086\n",
      "4\n",
      "4\n",
      "reader2 get A from queue.\n",
      "reader1 get B from queue.\n",
      "reader1 get C from queue.\n",
      "reader2 get D from queue.\n"
     ]
    }
   ],
   "source": [
    "import os, time, random\n",
    "from multiprocessing import Process, Queue,Pool\n",
    "\n",
    "# 写数据进程执行的代码:\n",
    "def writer(q):\n",
    "    print('Process to write: %s' % os.getpid())\n",
    "    for value in ['A', 'B', 'C','D']:\n",
    "        print('Put %s to queue...' % value)\n",
    "        q.put(value)\n",
    "\n",
    "\n",
    "\n",
    "# 读数据进程执行的代码:\n",
    "def reader(q,name):\n",
    "    print('Process to read: %s' % os.getpid())\n",
    "\n",
    "    print(q.qsize())\n",
    "    while q.qsize() > 0:\n",
    "        time.sleep(random.random())\n",
    "        value = q.get()\n",
    "        print('%s get %s from queue.' % (name,value))\n",
    "\n",
    "\n",
    "if __name__ == '__main__':\n",
    "    q = Queue()  # 父进程创建 Queue，并传给各个子进程：\n",
    "    pw = Process(target=write, args=(q,))\n",
    "    pr1 = Process(target=reader, args=(q,'reader1'))\n",
    "    pr2 = Process(target=reader, args=(q,'reader2'))\n",
    "    "
   ]
  },
  {
   "cell_type": "code",
   "execution_count": null,
   "metadata": {},
   "outputs": [
    {
     "name": "stdout",
     "output_type": "stream",
     "text": [
      "Process of writer: 30205\n",
      "Put A to queue...\n",
      "Put B to queue...\n",
      "Put C to queue...\n",
      "Put D to queue...\n",
      "Process of reader1: 30206\n",
      "Process of reader2: 30205\n",
      "Reader2 get A from queue.\n",
      "Reader1 get B from queue.\n",
      "Reader2 get C from queue.\n",
      "Reader1 get D from queue.\n",
      "Reader2 get E from queue.\n"
     ]
    }
   ],
   "source": [
    "%run multiprocessing_ex12.py"
   ]
  },
  {
   "cell_type": "code",
   "execution_count": null,
   "metadata": {},
   "outputs": [],
   "source": []
  }
 ],
 "metadata": {
  "kernelspec": {
   "display_name": "Python 3",
   "language": "python",
   "name": "python3"
  }
 },
 "nbformat": 4,
 "nbformat_minor": 2
}
